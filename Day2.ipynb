{
 "cells": [
  {
   "cell_type": "code",
   "execution_count": 17,
   "id": "53e9985c-aae5-491a-99c2-54e4058287ea",
   "metadata": {},
   "outputs": [
    {
     "name": "stdout",
     "output_type": "stream",
     "text": [
      "Grapes\n",
      "Sapota\n",
      "8\n",
      "6\n",
      "Ns200\n",
      "Rtr300\n"
     ]
    }
   ],
   "source": [
    "a=['Apple','Grapes','Orange','PineApple','Sapota']\n",
    "b=(4,5,6,7,8)\n",
    "c={1:'Ns200',2:'Rc390',3:'Rtr300',4:'Zx10R',5:'NinjaH2R'}\n",
    "print(a[1])\n",
    "print(a[4])\n",
    "print(b[4])\n",
    "print(b[2])\n",
    "print(c[1])\n",
    "print(c[3])"
   ]
  },
  {
   "cell_type": "code",
   "execution_count": null,
   "id": "9ff24867-027f-4806-b4c9-8b648b8361b8",
   "metadata": {},
   "outputs": [],
   "source": []
  }
 ],
 "metadata": {
  "kernelspec": {
   "display_name": "Python 3 (ipykernel)",
   "language": "python",
   "name": "python3"
  },
  "language_info": {
   "codemirror_mode": {
    "name": "ipython",
    "version": 3
   },
   "file_extension": ".py",
   "mimetype": "text/x-python",
   "name": "python",
   "nbconvert_exporter": "python",
   "pygments_lexer": "ipython3",
   "version": "3.12.7"
  }
 },
 "nbformat": 4,
 "nbformat_minor": 5
}
