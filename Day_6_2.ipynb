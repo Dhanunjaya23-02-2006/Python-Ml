{
  "nbformat": 4,
  "nbformat_minor": 0,
  "metadata": {
    "colab": {
      "provenance": [],
      "authorship_tag": "ABX9TyPcN9jtVnlaKto5Hdy0swB0",
      "include_colab_link": true
    },
    "kernelspec": {
      "name": "python3",
      "display_name": "Python 3"
    },
    "language_info": {
      "name": "python"
    }
  },
  "cells": [
    {
      "cell_type": "markdown",
      "metadata": {
        "id": "view-in-github",
        "colab_type": "text"
      },
      "source": [
        "<a href=\"https://colab.research.google.com/github/Dhanunjaya23-02-2006/Python-Ml/blob/main/Day_6_2.ipynb\" target=\"_parent\"><img src=\"https://colab.research.google.com/assets/colab-badge.svg\" alt=\"Open In Colab\"/></a>"
      ]
    },
    {
      "cell_type": "code",
      "execution_count": 1,
      "metadata": {
        "colab": {
          "base_uri": "https://localhost:8080/"
        },
        "id": "817i3O8Ok_rX",
        "outputId": "dfec4d93-252e-4486-c4f5-c637877feb21"
      },
      "outputs": [
        {
          "output_type": "stream",
          "name": "stdout",
          "text": [
            "First 2 rows of the DataFrame:\n",
            "    Name  Age  Salary\n",
            "0  Alice   24   50000\n",
            "1    Bob   30   60000\n",
            "\n",
            "Average Salary of Employees: 56000.0\n",
            "\n",
            "Employees older than 25:\n",
            "    Name  Age  Salary   Bonus\n",
            "1    Bob   30   60000  6000.0\n",
            "3  David   28   55000  5500.0\n",
            "4    Eve   35   70000  7000.0\n"
          ]
        }
      ],
      "source": [
        "import pandas as pd\n",
        "data = {\n",
        "    'Name': ['Alice', 'Bob', 'Charlie', 'David', 'Eve'],\n",
        "    'Age': [24, 30, 22, 28, 35],\n",
        "    'Salary': [50000, 60000, 45000, 55000, 70000]\n",
        "}\n",
        "df = pd.DataFrame(data)\n",
        "print(\"First 2 rows of the DataFrame:\")\n",
        "print(df.head(2))\n",
        "df['Bonus'] = df['Salary'] * 0.10\n",
        "average_salary = df['Salary'].mean()\n",
        "print(\"\\nAverage Salary of Employees:\", average_salary)\n",
        "older_than_25 = df[df['Age'] > 25]\n",
        "print(\"\\nEmployees older than 25:\")\n",
        "print(older_than_25)"
      ]
    }
  ]
}