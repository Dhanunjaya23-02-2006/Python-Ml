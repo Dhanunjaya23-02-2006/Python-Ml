{
 "cells": [
  {
   "cell_type": "code",
   "execution_count": 11,
   "id": "03646068-9d52-4dfc-8db6-a696be26f473",
   "metadata": {},
   "outputs": [
    {
     "name": "stdin",
     "output_type": "stream",
     "text": [
      "Enter marks obtained in subject1:  50\n",
      "Enter marks obtained in subject2:  80\n",
      "Enter marks obtained in subject3:  90\n"
     ]
    },
    {
     "name": "stdout",
     "output_type": "stream",
     "text": [
      "Grade:C\n",
      "Average Marks: 73.33\n"
     ]
    },
    {
     "ename": "NameError",
     "evalue": "name 'grade' is not defined",
     "output_type": "error",
     "traceback": [
      "\u001b[1;31m---------------------------------------------------------------------------\u001b[0m",
      "\u001b[1;31mNameError\u001b[0m                                 Traceback (most recent call last)",
      "Cell \u001b[1;32mIn[11], line 20\u001b[0m\n\u001b[0;32m     17\u001b[0m     \u001b[38;5;28mprint\u001b[39m(\u001b[38;5;124mf\u001b[39m\u001b[38;5;124m\"\u001b[39m\u001b[38;5;124mAverage Marks: \u001b[39m\u001b[38;5;132;01m{\u001b[39;00maverage\u001b[38;5;132;01m:\u001b[39;00m\u001b[38;5;124m.2f\u001b[39m\u001b[38;5;132;01m}\u001b[39;00m\u001b[38;5;124m\"\u001b[39m)\n\u001b[0;32m     18\u001b[0m     \u001b[38;5;28mprint\u001b[39m(\u001b[38;5;124mf\u001b[39m\u001b[38;5;124m\"\u001b[39m\u001b[38;5;124mGrade: \u001b[39m\u001b[38;5;132;01m{\u001b[39;00mgrade\u001b[38;5;132;01m}\u001b[39;00m\u001b[38;5;124m\"\u001b[39m)\n\u001b[1;32m---> 20\u001b[0m \u001b[43mstudent_grade\u001b[49m\u001b[43m(\u001b[49m\u001b[43m)\u001b[49m\n",
      "Cell \u001b[1;32mIn[11], line 18\u001b[0m, in \u001b[0;36mstudent_grade\u001b[1;34m()\u001b[0m\n\u001b[0;32m     15\u001b[0m     \u001b[38;5;28mprint\u001b[39m(\u001b[38;5;124m\"\u001b[39m\u001b[38;5;124mGrade:Fail\u001b[39m\u001b[38;5;124m\"\u001b[39m)\n\u001b[0;32m     17\u001b[0m \u001b[38;5;28mprint\u001b[39m(\u001b[38;5;124mf\u001b[39m\u001b[38;5;124m\"\u001b[39m\u001b[38;5;124mAverage Marks: \u001b[39m\u001b[38;5;132;01m{\u001b[39;00maverage\u001b[38;5;132;01m:\u001b[39;00m\u001b[38;5;124m.2f\u001b[39m\u001b[38;5;132;01m}\u001b[39;00m\u001b[38;5;124m\"\u001b[39m)\n\u001b[1;32m---> 18\u001b[0m \u001b[38;5;28mprint\u001b[39m(\u001b[38;5;124mf\u001b[39m\u001b[38;5;124m\"\u001b[39m\u001b[38;5;124mGrade: \u001b[39m\u001b[38;5;132;01m{\u001b[39;00m\u001b[43mgrade\u001b[49m\u001b[38;5;132;01m}\u001b[39;00m\u001b[38;5;124m\"\u001b[39m)\n",
      "\u001b[1;31mNameError\u001b[0m: name 'grade' is not defined"
     ]
    }
   ],
   "source": [
    "def student_grade():\n",
    "    subject1=int(input(\"Enter marks obtained in subject1: \"))\n",
    "    subject2=int(input(\"Enter marks obtained in subject2: \"))\n",
    "    subject3=int(input(\"Enter marks obtained in subject3: \"))\n",
    "\n",
    "    average=(subject1 + subject2 + subject3)/3\n",
    "\n",
    "    if average >= 90:\n",
    "        print(\"Grade:A\")\n",
    "    elif average >= 80 and average < 90:\n",
    "        print(\"Grade:B\")\n",
    "    elif average >= 70 and average < 80:\n",
    "        print(\"Grade:C\")\n",
    "    else:\n",
    "        print(\"Grade:Fail\")\n",
    "\n",
    "    print(f\"Average Marks: {average:.2f}\")\n",
    "    print(f\"Grade: {grade}\")\n",
    "\n",
    "student_grade()"
   ]
  },
  {
   "cell_type": "code",
   "execution_count": null,
   "id": "ccf45cb9-8b2c-476c-83aa-afa181939a93",
   "metadata": {},
   "outputs": [],
   "source": []
  }
 ],
 "metadata": {
  "kernelspec": {
   "display_name": "Python 3 (ipykernel)",
   "language": "python",
   "name": "python3"
  },
  "language_info": {
   "codemirror_mode": {
    "name": "ipython",
    "version": 3
   },
   "file_extension": ".py",
   "mimetype": "text/x-python",
   "name": "python",
   "nbconvert_exporter": "python",
   "pygments_lexer": "ipython3",
   "version": "3.12.7"
  }
 },
 "nbformat": 4,
 "nbformat_minor": 5
}
